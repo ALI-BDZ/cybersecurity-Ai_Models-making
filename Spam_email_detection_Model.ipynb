{
 "cells": [
  {
   "cell_type": "code",
   "execution_count": null,
   "metadata": {},
   "outputs": [],
   "source": [
    "import pandas as pd\n",
    "import numpy as np\n",
    "import matplotlib.pyplot as plt\n",
    "\n",
    "# i try to make names for the collumns based on the collumn names in the spambase names \n",
    "word_features = [\n",
    "    \"word_freq_make\", \"word_freq_address\", \"word_freq_all\", \"word_freq_3d\", \"word_freq_our\", \n",
    "    \"word_freq_over\", \"word_freq_remove\", \"word_freq_internet\", \"word_freq_order\", \"word_freq_mail\", \n",
    "    \"word_freq_receive\", \"word_freq_will\", \"word_freq_people\", \"word_freq_report\", \"word_freq_addresses\", \n",
    "    \"word_freq_free\", \"word_freq_business\", \"word_freq_email\", \"word_freq_you\", \"word_freq_credit\", \n",
    "    \"word_freq_your\", \"word_freq_font\", \"word_freq_000\", \"word_freq_money\", \"word_freq_hp\", \n",
    "    \"word_freq_hpl\", \"word_freq_george\", \"word_freq_650\", \"word_freq_lab\", \"word_freq_labs\", \n",
    "    \"word_freq_telnet\", \"word_freq_857\", \"word_freq_data\", \"word_freq_415\", \"word_freq_85\", \n",
    "    \"word_freq_technology\", \"word_freq_1999\", \"word_freq_parts\", \"word_freq_pm\", \"word_freq_direct\", \n",
    "    \"word_freq_cs\", \"word_freq_meeting\", \"word_freq_original\", \"word_freq_project\", \"word_freq_re\", \n",
    "    \"word_freq_edu\", \"word_freq_table\", \"word_freq_conference\"\n",
    "]\n",
    "\n",
    "\n",
    "char_features = [\n",
    "    \"char_freq_semicolon\", \"char_freq_parenthesis\", \"char_freq_bracket\", \n",
    "    \"char_freq_exclamation\", \"char_freq_dollar\", \"char_freq_hash\"\n",
    "]\n",
    "\n",
    "\n",
    "capital_features = [\n",
    "    \"capital_run_length_average\", \"capital_run_length_longest\", \"capital_run_length_total\"\n",
    "]\n",
    "\n",
    "target = [\"is_spam\"]\n",
    "\n",
    "columnnames=word_features+char_features+capital_features+target\n",
    "\n",
    "\n",
    "data=pd.read_csv('spambase.data', header=None,names=columnnames)\n",
    "\n",
    "X=data.drop('is_spam',axis=1)\n",
    "y=data['is_spam']\n"
   ]
  },
  {
   "cell_type": "markdown",
   "metadata": {},
   "source": [
    "here i orgnized my dataset  using pandas library "
   ]
  },
  {
   "cell_type": "code",
   "execution_count": null,
   "metadata": {},
   "outputs": [
    {
     "name": "stdout",
     "output_type": "stream",
     "text": [
      "Number of features: 57\n",
      "h_theta(x) for the first example: 1.0\n"
     ]
    }
   ],
   "source": [
    "from sklearn.model_selection import train_test_split, cross_val_score\n",
    "\n",
    "X_train, X_test, y_train, y_test = train_test_split(X, y, test_size=0.2, random_state=42)\n",
    "\n",
    "num_features = X_train.shape[1]\n",
    "print(\"Number of features:\", num_features)\n"
   ]
  }
 ],
 "metadata": {
  "kernelspec": {
   "display_name": "Python 3",
   "language": "python",
   "name": "python3"
  },
  "language_info": {
   "codemirror_mode": {
    "name": "ipython",
    "version": 3
   },
   "file_extension": ".py",
   "mimetype": "text/x-python",
   "name": "python",
   "nbconvert_exporter": "python",
   "pygments_lexer": "ipython3",
   "version": "3.13.1"
  }
 },
 "nbformat": 4,
 "nbformat_minor": 2
}
