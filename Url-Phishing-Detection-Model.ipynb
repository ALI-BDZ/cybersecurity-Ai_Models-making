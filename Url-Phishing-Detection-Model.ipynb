{
 "cells": [
  {
   "cell_type": "code",
   "execution_count": null,
   "metadata": {},
   "outputs": [],
   "source": [
    "import pandas as pd\n",
    "\n",
    "df = pd.read_csv(\"malicious_phish.csv\")\n",
    "\n",
    "print(\"Premières lignes du dataset :\")\n",
    "display(df.head())"
   ]
  },
  {
   "cell_type": "code",
   "execution_count": 3,
   "metadata": {},
   "outputs": [
    {
     "name": "stdout",
     "output_type": "stream",
     "text": [
      "\n",
      "Distribution des types d'URL :\n",
      "type\n",
      "benign        428103\n",
      "defacement     96457\n",
      "phishing       94111\n",
      "malware        32520\n",
      "Name: count, dtype: int64\n"
     ]
    },
    {
     "data": {
      "image/png": "[encoded data removed]",
      "text/plain": [
       "<Figure size 800x400 with 1 Axes>"
      ]
     },
     "metadata": {},
     "output_type": "display_data"
    }
   ],
   "source": [
    "import pandas as pd\n",
    "df = pd.read_csv(\"malicious_phish.csv\")\n",
    "\n",
    "print(\"\\nDistribution des types d'URL :\")\n",
    "print(df['type'].value_counts())\n",
    "\n",
    "import matplotlib.pyplot as plt\n",
    "plt.figure(figsize=(8, 4))\n",
    "df['type'].value_counts().plot(kind='bar', color=['skyblue', 'lightgreen', 'salmon'])\n",
    "plt.title(\"Répartition des types d'URL\")\n",
    "plt.show()"
   ]
  },
  {
   "cell_type": "code",
   "execution_count": null,
   "metadata": {},
   "outputs": [],
   "source": [
    "from sklearn.model_selection import train_test_split\n",
    "from sklearn.linear_model import LogisticRegression\n",
    "from sklearn.feature_extraction.text import TfidfVectorizer\n",
    "\n",
    "\n",
    "vectorizer = TfidfVectorizer(\n",
    "    analyzer='char', \n",
    "    ngram_range=(3, 5),  \n",
    "    max_features=5000\n",
    ")\n",
    "\n",
    "X = vectorizer.fit_transform(df['url'])\n",
    "y = df['type']\n",
    "\n",
    "X_train, X_test, y_train, y_test = train_test_split(X, y, test_size=0.2, random_state=42)\n",
    "\n",
    "model = LogisticRegression(\n",
    "    multi_class='multinomial',\n",
    "    solver='lbfgs',\n",
    "    max_iter=1000,\n",
    "    class_weight='balanced' \n",
    ")\n",
    "model.fit(X_train, y_train)"
   ]
  },
  {
   "cell_type": "markdown",
   "metadata": {},
   "source": [
    "Vectorisation : Les URLs sont transformées en vecteurs TF-IDF basés sur des n-grams de caractères (e.g., \"htt\", \"ttp\").\n",
    "\n",
    "Split des données :\n",
    "\n",
    "80% des données pour l'entraînement (X_train, y_train).\n",
    "\n",
    "20% des données pour le test (X_test, y_test).\n",
    "\n",
    "Modèle : Un modèle de régression logistique multinomial est entraîné pour prédire le type d'URL (benign, phishing, defacement)."
   ]
  },
  {
   "cell_type": "code",
   "execution_count": 18,
   "metadata": {},
   "outputs": [
    {
     "name": "stderr",
     "output_type": "stream",
     "text": [
      "C:\\Users\\GameZone_Dz\\AppData\\Roaming\\Python\\Python313\\site-packages\\sklearn\\linear_model\\_logistic.py:1247: FutureWarning: 'multi_class' was deprecated in version 1.5 and will be removed in 1.7. From then on, it will always use 'multinomial'. Leave it to its default value to avoid this warning.\n",
      "  warnings.warn(\n"
     ]
    },
    {
     "name": "stdout",
     "output_type": "stream",
     "text": [
      "\n",
      "Rapport de classification :\n",
      "              precision    recall  f1-score   support\n",
      "\n",
      "      benign       0.98      0.94      0.96     85778\n",
      "  defacement       0.97      0.99      0.98     19104\n",
      "     malware       0.91      0.95      0.93      6521\n",
      "    phishing       0.79      0.90      0.84     18836\n",
      "\n",
      "    accuracy                           0.94    130239\n",
      "   macro avg       0.91      0.95      0.93    130239\n",
      "weighted avg       0.95      0.94      0.95    130239\n",
      "\n",
      "\n",
      "Matrice de confusion :\n",
      "[[80993   293   288  4204]\n",
      " [   17 18893    40   154]\n",
      " [   27    16  6221   257]\n",
      " [ 1306   340   267 16923]]\n",
      "\n",
      "Top 10 caractéristiques pour 'phishing' :\n",
      "['org/', '.br/', 'br/', '.org/', '.ca/', '.net/', '.pl/', 'om/', 'com/', '.com/']\n"
     ]
    }
   ],
   "source": [
    "from sklearn.metrics import classification_report, confusion_matrix\n",
    "import numpy as np\n",
    "model = LogisticRegression(\n",
    "    multi_class='multinomial',\n",
    "    solver='lbfgs',\n",
    "    max_iter=1000,\n",
    "    class_weight='balanced' \n",
    ")\n",
    "X = vectorizer.fit_transform(df['url'])\n",
    "y = df['type']\n",
    "X_train, X_test, y_train, y_test = train_test_split(X, y, test_size=0.2, random_state=42)\n",
    "model.fit(X_train, y_train)\n",
    "\n",
    "\n",
    "\n",
    "y_pred = model.predict(X_test)\n",
    "\n",
    "print(\"\\nRapport de classification :\")\n",
    "print(classification_report(y_test, y_pred))\n",
    "\n",
    "print(\"\\nMatrice de confusion :\")\n",
    "print(confusion_matrix(y_test, y_pred))\n",
    "\n",
    "feature_names = vectorizer.get_feature_names_out()\n",
    "coefs = model.coef_\n",
    "\n",
    "print(\"\\nTop 10 caractéristiques pour 'phishing' :\")\n",
    "print([feature_names[i] for i in np.argsort(coefs[0])[-10:]])"
   ]
  },
  {
   "cell_type": "markdown",
   "metadata": {},
   "source": [
    "**c est pour valider le modele **"
   ]
  }
 ],
 "metadata": {
  "kernelspec": {
   "display_name": "Python 3",
   "language": "python",
   "name": "python3"
  },
  "language_info": {
   "codemirror_mode": {
    "name": "ipython",
    "version": 3
   },
   "file_extension": ".py",
   "mimetype": "text/x-python",
   "name": "python",
   "nbconvert_exporter": "python",
   "pygments_lexer": "ipython3",
   "version": "3.13.1"
  }
 },
 "nbformat": 4,
 "nbformat_minor": 2
}
